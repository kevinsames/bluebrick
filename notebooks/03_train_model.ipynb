{
 "cells": [
  {
   "cell_type": "markdown",
   "id": "cd7cfa5d",
   "metadata": {},
   "source": [
    "# 03 – Train Model\n",
    "This notebook loads prepared data, trains a model, and logs it to MLflow."
   ]
  },
  {
   "cell_type": "code",
   "execution_count": null,
   "id": "7b844b8f",
   "metadata": {
    "vscode": {
     "languageId": "plaintext"
    }
   },
   "outputs": [],
   "source": [
    "%pip install -e ../src"
   ]
  },
  {
   "cell_type": "code",
   "execution_count": null,
   "id": "c9b942a8",
   "metadata": {
    "vscode": {
     "languageId": "plaintext"
    }
   },
   "outputs": [],
   "source": [
    "from pyspark.sql.functions import col\n",
    "from project.common import get_spark_session, get_logger\n",
    "from project.train_model import train\n",
    "import mlflow\n",
    "import pandas as pd\n",
    "\n",
    "logger = get_logger(\"train_model\")\n",
    "spark = get_spark_session()"
   ]
  },
  {
   "cell_type": "code",
   "execution_count": null,
   "id": "04aa590c",
   "metadata": {
    "vscode": {
     "languageId": "plaintext"
    }
   },
   "outputs": [],
   "source": [
    "\n",
    "# Load prepared data\n",
    "input_path = \"dbfs:/tmp/nyc_taxi/prepared_data\"\n",
    "logger.info(f\"Loading data from {input_path}\")\n",
    "df = spark.read.format(\"delta\").load(input_path)"
   ]
  },
  {
   "cell_type": "code",
   "execution_count": null,
   "id": "d3935d5b",
   "metadata": {
    "vscode": {
     "languageId": "plaintext"
    }
   },
   "outputs": [],
   "source": [
    "\n",
    "# Convert to Pandas for sklearn training (use Spark MLlib for large data)\n",
    "df_pd = df.select(\"trip_distance\", \"passenger_count\", \"tip_pct\").dropna().toPandas()\n",
    "df_pd = df_pd[df_pd[\"tip_pct\"].between(0, 5)]  # Filter extreme outliers\n",
    "\n",
    "df_pd[\"target\"] = df_pd[\"tip_pct\"]\n",
    "df_pd = df_pd.drop(columns=[\"tip_pct\"])"
   ]
  },
  {
   "cell_type": "code",
   "execution_count": null,
   "id": "6105de2a",
   "metadata": {
    "vscode": {
     "languageId": "plaintext"
    }
   },
   "outputs": [],
   "source": [
    "# Train model with MLflow tracking\n",
    "logger.info(\"Starting training run\")\n",
    "model = train(df_pd, target_column=\"target\")"
   ]
  },
  {
   "cell_type": "markdown",
   "id": "3561b522",
   "metadata": {},
   "source": [
    "# ✅ Training complete. View results in MLflow experiment UI.\n",
    "You can now register this model or trigger evaluation/notebook."
   ]
  }
 ],
 "metadata": {
  "language_info": {
   "name": "python"
  }
 },
 "nbformat": 4,
 "nbformat_minor": 5
}
