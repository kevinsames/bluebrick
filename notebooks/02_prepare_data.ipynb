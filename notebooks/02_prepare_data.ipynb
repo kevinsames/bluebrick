{
 "cells": [
  {
   "cell_type": "markdown",
   "id": "5f820a15",
   "metadata": {},
   "source": [
    "# 02 – Prepare NYC Taxi Data\n",
    "This notebook reads raw taxi data and prepares it for modeling."
   ]
  },
  {
   "cell_type": "markdown",
   "id": "faa348f2",
   "metadata": {
    "vscode": {
     "languageId": "plaintext"
    }
   },
   "source": [
    "%pip install -e ../src"
   ]
  },
  {
   "cell_type": "code",
   "execution_count": null,
   "id": "a3b9fb98",
   "metadata": {},
   "outputs": [],
   "source": [
    "from pyspark.sql.functions import col\n",
    "from project.common import get_spark_session, get_logger\n",
    "from project.data_ingestion import read_csv, select_columns, filter_nulls\n",
    "from project.feature_engineering import add_ratio_column, drop_null_rows\n",
    "\n",
    "logger = get_logger(\"prepare_data\")"
   ]
  },
  {
   "cell_type": "code",
   "execution_count": null,
   "id": "e2bb459d",
   "metadata": {
    "vscode": {
     "languageId": "plaintext"
    }
   },
   "outputs": [],
   "source": [
    "# Get Spark session\n",
    "spark = get_spark_session()"
   ]
  },
  {
   "cell_type": "code",
   "execution_count": null,
   "id": "9f0536a6",
   "metadata": {},
   "outputs": [],
   "source": [
    "# Read data\n",
    "raw_path = \"dbfs:/databricks-datasets/nyctaxi/tripdata/yellow/yellow_tripdata_2020-01.csv\"\n",
    "logger.info(f\"Reading raw data from {raw_path}\")\n",
    "df = read_csv(spark, raw_path)"
   ]
  },
  {
   "cell_type": "code",
   "execution_count": null,
   "id": "b7532023",
   "metadata": {},
   "outputs": [],
   "source": [
    "# Select subset of relevant columns\n",
    "columns = [\n",
    "    \"tpep_pickup_datetime\",\n",
    "    \"tpep_dropoff_datetime\",\n",
    "    \"passenger_count\",\n",
    "    \"trip_distance\",\n",
    "    \"fare_amount\",\n",
    "    \"tip_amount\",\n",
    "    \"total_amount\"\n",
    "]\n",
    "df = select_columns(df, columns)"
   ]
  },
  {
   "cell_type": "code",
   "execution_count": null,
   "id": "60848f26",
   "metadata": {},
   "outputs": [],
   "source": [
    "# Drop rows with nulls in key fields\n",
    "df_clean = drop_null_rows(df, subset=[\"trip_distance\", \"fare_amount\", \"total_amount\"])"
   ]
  },
  {
   "cell_type": "code",
   "execution_count": null,
   "id": "c97e1e51",
   "metadata": {},
   "outputs": [],
   "source": [
    "# Feature: tip as percentage of fare\n",
    "df_features = add_ratio_column(df_clean, \"tip_amount\", \"fare_amount\", \"tip_pct\")"
   ]
  },
  {
   "cell_type": "code",
   "execution_count": null,
   "id": "61f263fe",
   "metadata": {},
   "outputs": [],
   "source": [
    "# Save prepared data to Delta (or overwrite in dev)\n",
    "output_path = \"dbfs:/tmp/nyc_taxi/prepared_data\"\n",
    "logger.info(f\"Saving cleaned data to {output_path}\")\n",
    "df_features.write.mode(\"overwrite\").format(\"delta\").save(output_path)"
   ]
  },
  {
   "cell_type": "markdown",
   "id": "87a281a2",
   "metadata": {},
   "source": [
    "# ✅ Data preparation completed. Output saved as Delta table."
   ]
  }
 ],
 "metadata": {
  "language_info": {
   "name": "python"
  }
 },
 "nbformat": 4,
 "nbformat_minor": 5
}
