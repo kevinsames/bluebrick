{
 "cells": [
  {
   "cell_type": "markdown",
   "id": "d5c08398",
   "metadata": {},
   "source": [
    "# 04 – Batch Inference\n",
    "Load production model from MLflow and apply to new data.\n"
   ]
  },
  {
   "cell_type": "code",
   "execution_count": null,
   "id": "91bd653b",
   "metadata": {
    "vscode": {
     "languageId": "plaintext"
    }
   },
   "outputs": [],
   "source": [
    "%pip install -e ../src"
   ]
  },
  {
   "cell_type": "code",
   "execution_count": null,
   "id": "f6324c23",
   "metadata": {
    "vscode": {
     "languageId": "plaintext"
    }
   },
   "outputs": [],
   "source": [
    "import pandas as pd\n",
    "import mlflow\n",
    "import mlflow.sklearn\n",
    "from project.common import get_logger\n",
    "from sklearn.datasets import load_diabetes\n",
    "\n",
    "logger = get_logger(\"batch_inference\")"
   ]
  },
  {
   "cell_type": "code",
   "execution_count": null,
   "id": "5a0d3411",
   "metadata": {
    "vscode": {
     "languageId": "plaintext"
    }
   },
   "outputs": [],
   "source": [
    "# Load new data (simulate real-world batch)\n",
    "data = load_diabetes(as_frame=True)\n",
    "X_new = data.data.copy()\n",
    "\n",
    "# Preview batch\n",
    "X_new.head()"
   ]
  },
  {
   "cell_type": "code",
   "execution_count": null,
   "id": "4bf6def7",
   "metadata": {
    "vscode": {
     "languageId": "plaintext"
    }
   },
   "outputs": [],
   "source": [
    "# Load production model from MLflow registry\n",
    "model_name = \"nyc-tip-predictor\"\n",
    "stage = \"Production\"\n",
    "\n",
    "logger.info(f\"Loading model: {model_name} ({stage})\")\n",
    "model_uri = f\"models:/{model_name}/{stage}\"\n",
    "model = mlflow.sklearn.load_model(model_uri)"
   ]
  },
  {
   "cell_type": "code",
   "execution_count": null,
   "id": "2113e5d5",
   "metadata": {
    "vscode": {
     "languageId": "plaintext"
    }
   },
   "outputs": [],
   "source": [
    "# Run inference\n",
    "predictions = model.predict(X_new)"
   ]
  },
  {
   "cell_type": "code",
   "execution_count": null,
   "id": "6b8190e6",
   "metadata": {
    "vscode": {
     "languageId": "plaintext"
    }
   },
   "outputs": [],
   "source": [
    "# Save output to a Delta or CSV\n",
    "output_path = \"dbfs:/tmp/nyc_taxi/predictions\"\n",
    "logger.info(f\"Saving batch predictions to {output_path}\")\n",
    "X_new.to_csv(\"/dbfs/tmp/nyc_taxi/predictions/output.csv\", index=False)"
   ]
  },
  {
   "cell_type": "markdown",
   "id": "9456e2ed",
   "metadata": {},
   "source": [
    "# ✅ Batch inference complete. Predictions saved.\n",
    "You can now analyze or deliver the results."
   ]
  }
 ],
 "metadata": {
  "language_info": {
   "name": "python"
  }
 },
 "nbformat": 4,
 "nbformat_minor": 5
}
