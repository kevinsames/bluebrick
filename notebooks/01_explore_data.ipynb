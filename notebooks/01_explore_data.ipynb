{
 "cells": [
  {
   "cell_type": "markdown",
   "id": "a629f7cc",
   "metadata": {},
   "source": [
    "# MAGIC %md\n",
    "# 01 – Explore NYC Taxi Data\n",
    "Basic exploration of the dataset structure and statistics."
   ]
  },
  {
   "cell_type": "code",
   "execution_count": null,
   "id": "478b0a11",
   "metadata": {},
   "outputs": [],
   "source": [
    "# Load required packages\n",
    "import pandas as pd\n",
    "import seaborn as sns\n",
    "import matplotlib.pyplot as plt\n",
    "from sklearn.datasets import fetch_openml"
   ]
  },
  {
   "cell_type": "code",
   "execution_count": null,
   "id": "af7349c2",
   "metadata": {},
   "outputs": [],
   "source": [
    "# Load example dataset from OpenML (can be replaced with actual source)\n",
    "# We'll use the 'nyc-taxi-green-dec-2016' dataset if available\n",
    "data = fetch_openml(name='nyc-taxi-green-dec-2016', version=1, as_frame=True)\n",
    "df = data.frame\n",
    "\n",
    "# Show first few rows\n",
    "df.head()"
   ]
  },
  {
   "cell_type": "code",
   "execution_count": null,
   "id": "05b4e793",
   "metadata": {},
   "outputs": [],
   "source": [
    "# Dataset shape\n",
    "print(\"Shape:\", df.shape)"
   ]
  },
  {
   "cell_type": "code",
   "execution_count": null,
   "id": "028ad321",
   "metadata": {},
   "outputs": [],
   "source": [
    "# Check missing values\n",
    "df.isnull().sum().sort_values(ascending=False).head(10)"
   ]
  },
  {
   "cell_type": "code",
   "execution_count": null,
   "id": "b6907ccd",
   "metadata": {
    "vscode": {
     "languageId": "plaintext"
    }
   },
   "outputs": [],
   "source": [
    "# Basic statistics\n",
    "df.describe()"
   ]
  },
  {
   "cell_type": "code",
   "execution_count": null,
   "id": "27a983d4",
   "metadata": {},
   "outputs": [],
   "source": [
    "# Visualize trip distance distribution\n",
    "plt.figure(figsize=(10, 4))\n",
    "sns.histplot(df[\"trip_distance\"], bins=100, kde=True)\n",
    "plt.title(\"Trip Distance Distribution\")\n",
    "plt.xlim(0, 20)\n",
    "plt.xlabel(\"Distance (miles)\")\n",
    "plt.ylabel(\"Frequency\")\n",
    "plt.grid(True)\n",
    "plt.show()"
   ]
  },
  {
   "cell_type": "code",
   "execution_count": null,
   "id": "1ad1d6d9",
   "metadata": {},
   "outputs": [],
   "source": [
    "# Correlation matrix\n",
    "corr = df.corr(numeric_only=True)\n",
    "plt.figure(figsize=(10, 8))\n",
    "sns.heatmap(corr, annot=True, fmt=\".2f\", cmap=\"coolwarm\", center=0)\n",
    "plt.title(\"Feature Correlation Heatmap\")\n",
    "plt.show()"
   ]
  }
 ],
 "metadata": {
  "language_info": {
   "name": "python"
  }
 },
 "nbformat": 4,
 "nbformat_minor": 5
}
